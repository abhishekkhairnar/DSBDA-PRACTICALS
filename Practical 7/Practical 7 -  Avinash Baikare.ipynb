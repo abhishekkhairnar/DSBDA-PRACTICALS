{
 "cells": [
  {
   "cell_type": "markdown",
   "id": "4c9c3f4f",
   "metadata": {},
   "source": [
    "## Text Analytics"
   ]
  },
  {
   "cell_type": "markdown",
   "id": "7ab4d2fc",
   "metadata": {},
   "source": [
    "### Tokenization, POS Tagging, stop words removal, Stemming and Lemmatization"
   ]
  },
  {
   "cell_type": "markdown",
   "id": "524efae4",
   "metadata": {},
   "source": [
    "#### Download the required packages"
   ]
  },
  {
   "cell_type": "code",
   "execution_count": 2,
   "id": "fd4b18a9",
   "metadata": {},
   "outputs": [
    {
     "name": "stderr",
     "output_type": "stream",
     "text": [
      "[nltk_data] Downloading package punkt to\n",
      "[nltk_data]     C:\\Users\\TANMAY\\AppData\\Roaming\\nltk_data...\n",
      "[nltk_data]   Unzipping tokenizers\\punkt.zip.\n",
      "[nltk_data] Downloading package stopwords to\n",
      "[nltk_data]     C:\\Users\\TANMAY\\AppData\\Roaming\\nltk_data...\n",
      "[nltk_data]   Unzipping corpora\\stopwords.zip.\n",
      "[nltk_data] Downloading package wordnet to\n",
      "[nltk_data]     C:\\Users\\TANMAY\\AppData\\Roaming\\nltk_data...\n",
      "[nltk_data] Downloading package averaged_perceptron_tagger to\n",
      "[nltk_data]     C:\\Users\\TANMAY\\AppData\\Roaming\\nltk_data...\n",
      "[nltk_data]   Unzipping taggers\\averaged_perceptron_tagger.zip.\n"
     ]
    },
    {
     "data": {
      "text/plain": [
       "True"
      ]
     },
     "execution_count": 2,
     "metadata": {},
     "output_type": "execute_result"
    }
   ],
   "source": [
    "nltk.download('punkt')\n",
    "nltk.download('stopwords')\n",
    "nltk.download('wordnet')\n",
    "nltk.download('averaged_perceptron_tagger')"
   ]
  },
  {
   "cell_type": "markdown",
   "id": "3d2f0cea",
   "metadata": {},
   "source": [
    "#### Import the required libraries"
   ]
  },
  {
   "cell_type": "code",
   "execution_count": 1,
   "id": "19d09463",
   "metadata": {},
   "outputs": [],
   "source": [
    "import nltk\n",
    "from nltk.tokenize import sent_tokenize\n",
    "from nltk.tokenize import word_tokenize\n",
    "from nltk.corpus import stopwords\n",
    "from nltk.stem import PorterStemmer\n",
    "from nltk.stem import WordNetLemmatizer"
   ]
  },
  {
   "cell_type": "markdown",
   "id": "52b8c706",
   "metadata": {},
   "source": [
    "#### Initialize the text"
   ]
  },
  {
   "cell_type": "code",
   "execution_count": 3,
   "id": "9dec5dda",
   "metadata": {},
   "outputs": [],
   "source": [
    "text = \"Tokenization is the first step in text analytics. the process of breaking down a text paragraph into smaller chunks such as words or sentences is called Tokenization.\""
   ]
  },
  {
   "cell_type": "markdown",
   "id": "5fc74393",
   "metadata": {},
   "source": [
    "#### Sentence Tokenization"
   ]
  },
  {
   "cell_type": "code",
   "execution_count": 6,
   "id": "26988843",
   "metadata": {},
   "outputs": [
    {
     "name": "stdout",
     "output_type": "stream",
     "text": [
      "['Tokenization is the first step in text analytics.', 'the process of breaking down a text paragraph into smaller chunks such as words or sentences is called Tokenization.']\n"
     ]
    }
   ],
   "source": [
    "tokenized_text = sent_tokenize(text)\n",
    "print(tokenized_text)"
   ]
  },
  {
   "cell_type": "markdown",
   "id": "f4a6dae5",
   "metadata": {},
   "source": [
    "#### Word Tokenization"
   ]
  },
  {
   "cell_type": "code",
   "execution_count": 8,
   "id": "9cbdc411",
   "metadata": {},
   "outputs": [
    {
     "name": "stdout",
     "output_type": "stream",
     "text": [
      "['Tokenization', 'is', 'the', 'first', 'step', 'in', 'text', 'analytics', '.', 'the', 'process', 'of', 'breaking', 'down', 'a', 'text', 'paragraph', 'into', 'smaller', 'chunks', 'such', 'as', 'words', 'or', 'sentences', 'is', 'called', 'Tokenization', '.']\n"
     ]
    }
   ],
   "source": [
    "tokenized_word = word_tokenize(text)\n",
    "print(tokenized_word)"
   ]
  },
  {
   "cell_type": "markdown",
   "id": "42e021a9",
   "metadata": {},
   "source": [
    "#### Removing Punctuations and Stop Word"
   ]
  },
  {
   "cell_type": "code",
   "execution_count": 7,
   "id": "b0c9b791",
   "metadata": {},
   "outputs": [
    {
     "name": "stdout",
     "output_type": "stream",
     "text": [
      "{'they', 'myself', \"should've\", 'whom', 'needn', 'does', 'doing', 'couldn', 'all', 'once', \"she's\", 't', 'these', 'on', 'doesn', 'm', 'their', 'this', 'd', 'that', 'yourself', 'her', 'an', \"you'd\", \"wasn't\", 'should', 'under', 're', \"it's\", 'out', 'not', 'just', 'because', \"aren't\", 'his', 'other', 'did', 'above', \"hasn't\", 'off', 'such', 'the', \"mightn't\", 'any', 'shan', 'weren', \"mustn't\", 'yourselves', 'further', \"you'll\", 'll', 'were', 'won', 'here', 'through', 'how', 'now', 'my', 'so', 'below', 'ours', \"shan't\", 'both', 'herself', 'at', 'own', 's', 'mustn', 'you', 'there', 'then', 'she', 'from', 'down', 'more', 'him', 'during', 'me', 'been', 'shouldn', 'after', 'himself', 'your', \"isn't\", 'ma', 'same', 'in', 'when', \"wouldn't\", 'if', \"shouldn't\", \"you've\", 'it', 'are', 'be', \"that'll\", 'as', 'about', 'up', 'few', 'nor', 'ain', \"weren't\", 'while', 'its', \"don't\", 'what', \"you're\", 'them', 'aren', 'is', 'hadn', 'hers', 'wasn', 'had', 'with', 'our', 'of', \"hadn't\", 'mightn', 'i', 'has', 'don', \"needn't\", 'isn', 'until', 'wouldn', 'can', 'itself', 'some', 'into', 'he', 'for', 'between', 'yours', \"didn't\", \"won't\", 'no', 've', 'why', 'haven', 'having', 'y', 'will', 'those', 'who', 'have', 'o', 'before', 'by', 'do', 'but', 'or', 'being', 'a', 'and', 'didn', 'too', 'was', 'only', 'most', 'over', 'to', \"couldn't\", 'against', \"doesn't\", 'am', 'themselves', 'theirs', 'than', 'each', 'hasn', \"haven't\", 'ourselves', 'again', 'which', 'where', 'we', 'very'}\n"
     ]
    }
   ],
   "source": [
    "# Print stop words in English\n",
    "stop_words = set(stopwords.words(\"english\"))\n",
    "print(stop_words)"
   ]
  },
  {
   "cell_type": "code",
   "execution_count": 8,
   "id": "cf42fbc4",
   "metadata": {},
   "outputs": [
    {
     "name": "stdout",
     "output_type": "stream",
     "text": [
      "Tokenized Sentence: ['how', 'to', 'remove', 'stop', 'words', 'with', 'nltk', 'library', 'in', 'python', '?']\n",
      "Filterd Sentence: ['remove', 'stop', 'words', 'nltk', 'library', 'python', '?']\n"
     ]
    }
   ],
   "source": [
    "# Removing Punctuations\n",
    "text= \"How to remove stop words with NLTK library in Python?\"\n",
    "tokens = word_tokenize(text.lower())\n",
    "filtered_text=[]\n",
    "for w in tokens:\n",
    "    if w not in stop_words:\n",
    "        filtered_text.append(w)\n",
    "print(\"Tokenized Sentence:\",tokens)\n",
    "print(\"Filterd Sentence:\",filtered_text)"
   ]
  },
  {
   "cell_type": "markdown",
   "id": "861a877e",
   "metadata": {},
   "source": [
    "#### Perfrom Stemming"
   ]
  },
  {
   "cell_type": "code",
   "execution_count": 10,
   "id": "fda054e2",
   "metadata": {},
   "outputs": [
    {
     "name": "stdout",
     "output_type": "stream",
     "text": [
      "wait\n"
     ]
    }
   ],
   "source": [
    "e_words = [\"wait\", \"waiting\", \"waited\", \"waits\"]\n",
    "ps = PorterStemmer()\n",
    "for w in e_words:\n",
    "    rootWord = ps.stem(w)\n",
    "print(rootWord)"
   ]
  },
  {
   "cell_type": "markdown",
   "id": "80819b90",
   "metadata": {},
   "source": [
    "#### Perform Lemmatization"
   ]
  },
  {
   "cell_type": "code",
   "execution_count": 14,
   "id": "2be5a8a3",
   "metadata": {},
   "outputs": [
    {
     "name": "stdout",
     "output_type": "stream",
     "text": [
      "Lemma for studies is study\n",
      "Lemma for studying is studying\n",
      "Lemma for cries is cry\n",
      "Lemma for cry is cry\n"
     ]
    }
   ],
   "source": [
    "erwordnet_lemmatizer = WordNetLemmatizer()\n",
    "text = \"studies studying cries cry\"\n",
    "tokenization = nltk.word_tokenize(text)\n",
    "for w in tokenization:\n",
    "    print(\"Lemma for {} is {}\".format(w, erwordnet_lemmatizer.lemmatize(w)))"
   ]
  },
  {
   "cell_type": "markdown",
   "id": "12e44859",
   "metadata": {},
   "source": [
    "#### Apply POS Tagging to text"
   ]
  },
  {
   "cell_type": "code",
   "execution_count": 17,
   "id": "8448147b",
   "metadata": {},
   "outputs": [
    {
     "name": "stdout",
     "output_type": "stream",
     "text": [
      "[('The', 'DT')]\n",
      "[('pink', 'NN')]\n",
      "[('sweater', 'NN')]\n",
      "[('fit', 'NN')]\n",
      "[('her', 'PRP$')]\n",
      "[('perfectly', 'RB')]\n"
     ]
    }
   ],
   "source": [
    "data = \"The pink sweater fit her perfectly\"\n",
    "words = word_tokenize(data)\n",
    "for w in words:\n",
    "    print(nltk.pos_tag([w]))"
   ]
  },
  {
   "cell_type": "markdown",
   "id": "841974a9",
   "metadata": {},
   "source": [
    "### Representation of document by calculating TFIDF"
   ]
  },
  {
   "cell_type": "markdown",
   "id": "0ee96d7d",
   "metadata": {},
   "source": [
    "#### Import the necessary libraries"
   ]
  },
  {
   "cell_type": "code",
   "execution_count": 12,
   "id": "c3a77dd4",
   "metadata": {},
   "outputs": [],
   "source": [
    "import pandas as pd\n",
    "from sklearn.feature_extraction.text import TfidfVectorizer"
   ]
  },
  {
   "cell_type": "markdown",
   "id": "10cae2f2",
   "metadata": {},
   "source": [
    "#### Initialize the Documents"
   ]
  },
  {
   "cell_type": "code",
   "execution_count": 13,
   "id": "dac5c5ce",
   "metadata": {},
   "outputs": [],
   "source": [
    "documentA = \"Jupiter is the largest Planet\"\n",
    "documentB = \"Mars is the fourth planet from the Sun\""
   ]
  },
  {
   "cell_type": "markdown",
   "id": "816ec633",
   "metadata": {},
   "source": [
    "#### Create BagofWords for Document A and B"
   ]
  },
  {
   "cell_type": "code",
   "execution_count": 14,
   "id": "4fdc9c7a",
   "metadata": {},
   "outputs": [],
   "source": [
    "bagOfWordsA = documentA.split(' ')\n",
    "bagOfWordsB = documentB.split(' ')"
   ]
  },
  {
   "cell_type": "markdown",
   "id": "1a996142",
   "metadata": {},
   "source": [
    "#### Create Collection of Unique words from Document A and B"
   ]
  },
  {
   "cell_type": "code",
   "execution_count": 15,
   "id": "4109a96b",
   "metadata": {},
   "outputs": [],
   "source": [
    "uniqueWords = set(bagOfWordsA).union(set(bagOfWordsB))"
   ]
  },
  {
   "cell_type": "markdown",
   "id": "eb6b8069",
   "metadata": {},
   "source": [
    "#### Create a dictionary of words and their occurrence for each document in the corpus"
   ]
  },
  {
   "cell_type": "code",
   "execution_count": 16,
   "id": "9867cafc",
   "metadata": {},
   "outputs": [],
   "source": [
    "numOfWordsA = dict.fromkeys(uniqueWords, 0)\n",
    "for w in bagOfWordsA:\n",
    "    numOfWordsA[w] += 1\n",
    "    numOfWordsB = dict.fromkeys(uniqueWords,0)\n",
    "    for w in bagOfWordsB:\n",
    "        numOfWordsB[w] += 1"
   ]
  },
  {
   "cell_type": "markdown",
   "id": "8a6e19be",
   "metadata": {},
   "source": [
    "#### Compute the term frequency for each of our documents"
   ]
  },
  {
   "cell_type": "code",
   "execution_count": 17,
   "id": "a376414f",
   "metadata": {},
   "outputs": [],
   "source": [
    "def computeTF(wordDict, bagOfWords):\n",
    "    tfDict = {}\n",
    "    bagOfWordsCount = len(bagOfWords)\n",
    "    for word, count in wordDict.items():\n",
    "        tfDict[word] = count / float(bagOfWordsCount)\n",
    "    return tfDict\n",
    "\n",
    "tfA = computeTF(numOfWordsA, bagOfWordsA)\n",
    "tfB = computeTF(numOfWordsB, bagOfWordsB)"
   ]
  },
  {
   "cell_type": "markdown",
   "id": "6c3a907c",
   "metadata": {},
   "source": [
    "#### Compute the term Inverse Document Frequency"
   ]
  },
  {
   "cell_type": "code",
   "execution_count": 18,
   "id": "9bfb273c",
   "metadata": {},
   "outputs": [
    {
     "data": {
      "text/plain": [
       "{'Jupiter': 0.6931471805599453,\n",
       " 'Planet': 0.6931471805599453,\n",
       " 'is': 0.0,\n",
       " 'the': 0.0,\n",
       " 'Mars': 0.6931471805599453,\n",
       " 'Sun': 0.6931471805599453,\n",
       " 'planet': 0.6931471805599453,\n",
       " 'fourth': 0.6931471805599453,\n",
       " 'from': 0.6931471805599453,\n",
       " 'largest': 0.6931471805599453}"
      ]
     },
     "execution_count": 18,
     "metadata": {},
     "output_type": "execute_result"
    }
   ],
   "source": [
    "def computeIDF(documents):\n",
    "    import math\n",
    "    N = len(documents)\n",
    "    \n",
    "    idfDict = dict.fromkeys(documents[0].keys(), 0)\n",
    "    for document in documents:\n",
    "        for word, val in document.items():\n",
    "            if val > 0:\n",
    "                idfDict[word] += 1\n",
    "    \n",
    "    for word, val in idfDict.items():\n",
    "        idfDict[word] = math.log(N / float(val))\n",
    "    return idfDict\n",
    "\n",
    "idfs = computeIDF([numOfWordsA,numOfWordsB])\n",
    "idfs"
   ]
  },
  {
   "cell_type": "markdown",
   "id": "04dc8ace",
   "metadata": {},
   "source": [
    "#### Compute the term TF/IDF for all words"
   ]
  },
  {
   "cell_type": "code",
   "execution_count": 19,
   "id": "7b0171cf",
   "metadata": {},
   "outputs": [
    {
     "data": {
      "text/html": [
       "<div>\n",
       "<style scoped>\n",
       "    .dataframe tbody tr th:only-of-type {\n",
       "        vertical-align: middle;\n",
       "    }\n",
       "\n",
       "    .dataframe tbody tr th {\n",
       "        vertical-align: top;\n",
       "    }\n",
       "\n",
       "    .dataframe thead th {\n",
       "        text-align: right;\n",
       "    }\n",
       "</style>\n",
       "<table border=\"1\" class=\"dataframe\">\n",
       "  <thead>\n",
       "    <tr style=\"text-align: right;\">\n",
       "      <th></th>\n",
       "      <th>Jupiter</th>\n",
       "      <th>Planet</th>\n",
       "      <th>is</th>\n",
       "      <th>the</th>\n",
       "      <th>Mars</th>\n",
       "      <th>Sun</th>\n",
       "      <th>planet</th>\n",
       "      <th>fourth</th>\n",
       "      <th>from</th>\n",
       "      <th>largest</th>\n",
       "    </tr>\n",
       "  </thead>\n",
       "  <tbody>\n",
       "    <tr>\n",
       "      <th>0</th>\n",
       "      <td>0.138629</td>\n",
       "      <td>0.138629</td>\n",
       "      <td>0.0</td>\n",
       "      <td>0.0</td>\n",
       "      <td>0.000000</td>\n",
       "      <td>0.000000</td>\n",
       "      <td>0.000000</td>\n",
       "      <td>0.000000</td>\n",
       "      <td>0.000000</td>\n",
       "      <td>0.138629</td>\n",
       "    </tr>\n",
       "    <tr>\n",
       "      <th>1</th>\n",
       "      <td>0.000000</td>\n",
       "      <td>0.000000</td>\n",
       "      <td>0.0</td>\n",
       "      <td>0.0</td>\n",
       "      <td>0.086643</td>\n",
       "      <td>0.086643</td>\n",
       "      <td>0.086643</td>\n",
       "      <td>0.086643</td>\n",
       "      <td>0.086643</td>\n",
       "      <td>0.000000</td>\n",
       "    </tr>\n",
       "  </tbody>\n",
       "</table>\n",
       "</div>"
      ],
      "text/plain": [
       "    Jupiter    Planet   is  the      Mars       Sun    planet    fourth  \\\n",
       "0  0.138629  0.138629  0.0  0.0  0.000000  0.000000  0.000000  0.000000   \n",
       "1  0.000000  0.000000  0.0  0.0  0.086643  0.086643  0.086643  0.086643   \n",
       "\n",
       "       from   largest  \n",
       "0  0.000000  0.138629  \n",
       "1  0.086643  0.000000  "
      ]
     },
     "execution_count": 19,
     "metadata": {},
     "output_type": "execute_result"
    }
   ],
   "source": [
    "def computeTFIDF(tfBagOfWords, idfs):\n",
    "    tfidf = {}\n",
    "    for word, val in tfBagOfWords.items():\n",
    "        tfidf[word] = val * idfs[word]\n",
    "    return tfidf\n",
    "\n",
    "tfidfA = computeTFIDF(tfA,idfs)\n",
    "tfidfB = computeTFIDF(tfB,idfs)\n",
    "df = pd.DataFrame([tfidfA,tfidfB])\n",
    "df"
   ]
  }
 ],
 "metadata": {
  "kernelspec": {
   "display_name": "Python 3 (ipykernel)",
   "language": "python",
   "name": "python3"
  },
  "language_info": {
   "codemirror_mode": {
    "name": "ipython",
    "version": 3
   },
   "file_extension": ".py",
   "mimetype": "text/x-python",
   "name": "python",
   "nbconvert_exporter": "python",
   "pygments_lexer": "ipython3",
   "version": "3.10.9"
  }
 },
 "nbformat": 4,
 "nbformat_minor": 5
}
